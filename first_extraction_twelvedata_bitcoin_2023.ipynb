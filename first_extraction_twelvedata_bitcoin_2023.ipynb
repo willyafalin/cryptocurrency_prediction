{
 "cells": [
  {
   "cell_type": "code",
   "execution_count": 7,
   "id": "d4b2d3c8-c37c-48a5-a184-38d38ab0d33a",
   "metadata": {},
   "outputs": [],
   "source": [
    "import requests\n",
    "import pandas as pd\n",
    "\n",
    "def load_data(symbol, start_date, end_date, interval, output_csv_path):\n",
    "    api_key = 'de6ee984b4c24a0c9c7a43d7dca8b75e' \n",
    "    order = 'asc'\n",
    "    api_url = f'https://api.twelvedata.com/time_series?symbol={symbol}&start_date={start_date}&end_date={end_date}&interval={interval}&order={order}&apikey={api_key}'\n",
    "        \n",
    "    response = requests.get(api_url)\n",
    "    if response.status_code != 200:\n",
    "        raise Exception(\"Error in API request\")\n",
    "        \n",
    "    data = response.json()\n",
    "    \n",
    "    # extract the data from the 'values' key\n",
    "    data = pd.DataFrame(data['values'])\n",
    "    data.dropna(inplace=True) # Drop NaN values\n",
    "        \n",
    "    # cleaning to numeric\n",
    "    for col in data.columns[1:]: \n",
    "        data[col] = pd.to_numeric(data[col], errors='coerce')\n",
    "        \n",
    "    # save to CSV\n",
    "    data.to_csv(output_csv_path, index=False)\n",
    "    print(f\"Data has been successfully saved to {output_csv_path}\")\n",
    "    \n",
    "    return data"
   ]
  },
  {
   "cell_type": "code",
   "execution_count": 10,
   "id": "a482163a-dbe3-4b7f-86a9-ae760d335cdf",
   "metadata": {},
   "outputs": [
    {
     "name": "stdout",
     "output_type": "stream",
     "text": [
      "Data has been successfully saved to bitcoin_stock_data.csv\n"
     ]
    }
   ],
   "source": [
    "# first try\n",
    "\n",
    "symbol = \"BTC/USD\"\n",
    "start_date = \"2023-01-01\"\n",
    "end_date = \"2023-01-31\"\n",
    "interval = \"1day\"\n",
    "output_csv_path = \"bitcoin_stock_data.csv\"\n",
    "\n",
    "df = load_data(symbol, start_date, end_date, interval, output_csv_path)"
   ]
  },
  {
   "cell_type": "code",
   "execution_count": 9,
   "id": "41cd78de-2a82-47c6-ae5a-906c447523f1",
   "metadata": {},
   "outputs": [
    {
     "name": "stdout",
     "output_type": "stream",
     "text": [
      "Data has been successfully saved to bitcoin_stock_data_2.csv\n"
     ]
    }
   ],
   "source": [
    "symbol = \"BTC/USD\"\n",
    "start_date = \"2023-02-01\"\n",
    "end_date = \"2023-12-31\"\n",
    "interval = \"1day\"\n",
    "output_csv_path = \"bitcoin_stock_data_2.csv\"\n",
    "\n",
    "df = load_data(symbol, start_date, end_date, interval, output_csv_path)"
   ]
  },
  {
   "cell_type": "code",
   "execution_count": 11,
   "id": "81ad9ee9-61af-417a-9574-4fff67092de6",
   "metadata": {},
   "outputs": [],
   "source": [
    "file1 = \"bitcoin_stock_data.csv\"\n",
    "file2 = \"bitcoin_stock_data_2.csv\"\n",
    "\n",
    "df1 = pd.read_csv(file1)\n",
    "df2 = pd.read_csv(file2)\n",
    "\n",
    "combined_df = pd.concat([df1, df2])\n",
    "\n",
    "# save the combined dataset to a new CSV\n",
    "combined_output_csv = \"bitcoin_daily_2023_stock_data.csv\"\n",
    "combined_df.to_csv(combined_output_csv, index=False)"
   ]
  }
 ],
 "metadata": {
  "kernelspec": {
   "display_name": "Python 3 (ipykernel)",
   "language": "python",
   "name": "python3"
  },
  "language_info": {
   "codemirror_mode": {
    "name": "ipython",
    "version": 3
   },
   "file_extension": ".py",
   "mimetype": "text/x-python",
   "name": "python",
   "nbconvert_exporter": "python",
   "pygments_lexer": "ipython3",
   "version": "3.12.6"
  }
 },
 "nbformat": 4,
 "nbformat_minor": 5
}
