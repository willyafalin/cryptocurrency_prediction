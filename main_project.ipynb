{
 "cells": [
  {
   "cell_type": "code",
   "execution_count": null,
   "metadata": {},
   "outputs": [],
   "source": [
    "# Initialisation du client Binance\n",
    "client = Client()\n",
    "\n",
    "# Paramètres de l'extraction\n",
    "symbol = 'BTCUSDT'\n",
    "interval = Client.KLINE_INTERVAL_1DAY\n",
    "start_date = '1 Jan, 2023'\n",
    "end_date = '31 Dec, 2023'\n",
    "\n",
    "# Extraire les données\n",
    "df = get_historical_data(symbol, interval, start_date, end_date)\n",
    "\n",
    "# Sauvegarder les données dans un fichier CSV\n",
    "output_file = \"BTCUSDT_daily_2023.csv\"\n",
    "df.to_csv(output_file, index=False)\n",
    "print(f\"Données sauvegardées dans {output_file}\")"
   ]
  },
  {
   "cell_type": "code",
   "execution_count": null,
   "metadata": {},
   "outputs": [],
   "source": [
    "# Charger les données depuis le fichier CSV\n",
    "data_file = \"BTCUSDT_daily_2023.csv\"\n",
    "df = pd.read_csv(data_file)\n",
    "\n",
    "# Convertir la colonne 'timestamp' en format datetime\n",
    "df['timestamp'] = pd.to_datetime(df['timestamp'])\n",
    "\n",
    "# Vérifier les données\n",
    "print(df.head())\n",
    "print(df.info())"
   ]
  },
  {
   "cell_type": "code",
   "execution_count": null,
   "metadata": {},
   "outputs": [],
   "source": [
    "# Graphique simple des prix de clôture\n",
    "plt.figure(figsize=(12, 6))\n",
    "plt.plot(df['timestamp'], df['close'], label='Prix de clôture')\n",
    "plt.title(\"Prix de clôture BTC/USDT (2023)\")\n",
    "plt.xlabel(\"Date\")\n",
    "plt.ylabel(\"Prix (USDT)\")\n",
    "plt.legend()\n",
    "plt.grid()\n",
    "plt.show()"
   ]
  },
  {
   "cell_type": "code",
   "execution_count": null,
   "metadata": {},
   "outputs": [],
   "source": [
    "# Checking for any missing (NaN) values in the dataset.\n",
    "df.isna().sum()"
   ]
  },
  {
   "cell_type": "code",
   "execution_count": null,
   "metadata": {},
   "outputs": [],
   "source": [
    "final_data = add_indicators(df)\n",
    "final_data"
   ]
  },
  {
   "cell_type": "code",
   "execution_count": null,
   "metadata": {},
   "outputs": [],
   "source": [
    "scaled_data = scaling_data(final_data)\n",
    "scaled_data"
   ]
  },
  {
   "cell_type": "code",
   "execution_count": null,
   "metadata": {},
   "outputs": [],
   "source": [
    "# Setting up parameters for a prediction model. Here, the goal is to predict the closing price 60 days in the future using the closing price as the regressor.\n",
    "prediction_time = 60 # We want to predict the close price 60 days Later \n",
    "regressor = ['close'] # We choose One regressor which is the colse price itself\n",
    "price, target  = data_preprocess(scaled_data, regressor, prediction_time) # Data Processing for the model"
   ]
  },
  {
   "cell_type": "code",
   "execution_count": null,
   "metadata": {},
   "outputs": [],
   "source": [
    "# Applying linear regression to the preprocessed data.\n",
    "regression_matrix, future_price, simple_r2 = apply_linear_regression(scaled_data, prediction_time, price, target, regressor)\n",
    "# Visualizing the model's performance.\n",
    "visualize_model(regression_matrix, scaled_data)"
   ]
  },
  {
   "cell_type": "code",
   "execution_count": null,
   "metadata": {},
   "outputs": [],
   "source": [
    "visualize_model(regression_matrix, scaled_data, zoom = [600, 700])"
   ]
  },
  {
   "cell_type": "code",
   "execution_count": null,
   "metadata": {},
   "outputs": [],
   "source": [
    "# Displaying the R-squared value of the linear regression model.\n",
    "simple_r2"
   ]
  },
  {
   "cell_type": "code",
   "execution_count": null,
   "metadata": {},
   "outputs": [],
   "source": [
    "# Visualizing future price predictions made by the model.\n",
    "visualize_future(scaled_data, future_price)"
   ]
  },
  {
   "cell_type": "code",
   "execution_count": null,
   "metadata": {},
   "outputs": [],
   "source": [
    "# Creating a correlation matrix from the final_data.\n",
    "corr_matrix = final_data.drop('timestamp', axis=1).corr()\n",
    "# A heatmap is then plotted using seaborn to visually represent the correlations.\n",
    "sns.heatmap(corr_matrix)\n",
    "plt.show"
   ]
  },
  {
   "cell_type": "code",
   "execution_count": null,
   "metadata": {},
   "outputs": [],
   "source": [
    "# Extracting the correlation values of all features with respect to the 'close' column from the correlation matrix.\n",
    "corr_matrix['close']"
   ]
  },
  {
   "cell_type": "code",
   "execution_count": null,
   "metadata": {},
   "outputs": [],
   "source": [
    "# Updating the list of regressors to include 'close', 'ATR', and 'EMA' for the data preprocessing step.\n",
    "regressor = ['close', 'ATR', 'EMA']\n",
    "price, target  = data_preprocess(scaled_data, regressor, prediction_time) # Data Processing for the model"
   ]
  },
  {
   "cell_type": "code",
   "execution_count": null,
   "metadata": {},
   "outputs": [],
   "source": [
    "# Applying linear regression with the updated set of regressors.\n",
    "regression_matrix, future_price, mult_r2 = apply_linear_regression(scaled_data, prediction_time, price, target, regressor)"
   ]
  },
  {
   "cell_type": "code",
   "execution_count": null,
   "metadata": {},
   "outputs": [],
   "source": [
    "# Visualizing the performance of the linear regression model.\n",
    "visualize_model(regression_matrix, scaled_data, zoom=[600,700])"
   ]
  },
  {
   "cell_type": "code",
   "execution_count": null,
   "metadata": {},
   "outputs": [],
   "source": [
    "# Displaying the R-squared values for both the multivariate model ('mult_r2') and the previous simple model ('simple_r2').\n",
    "mult_r2, simple_r2"
   ]
  },
  {
   "cell_type": "code",
   "execution_count": null,
   "metadata": {},
   "outputs": [],
   "source": [
    "visualize_future(scaled_data, future_price)"
   ]
  },
  {
   "cell_type": "code",
   "execution_count": null,
   "metadata": {},
   "outputs": [],
   "source": [
    "# Creating a parameter grid for hyperparameter tuning. This grid includes a range of values for 'C' and 'gamma', which are parameters used in models like SVMs.\n",
    "param_grid = {'C': [10**i for i in range(2, 11)], \n",
    "              'gamma' : [10**(-i) for i in range(2, 11)]} # Creat a dictionnary of parameters"
   ]
  },
  {
   "cell_type": "code",
   "execution_count": null,
   "metadata": {},
   "outputs": [],
   "source": [
    "# Splitting the price and target data into training and test sets, with 70% of data as training set.\n",
    "price_train, _, target_train, _ = train_test_split(price, target, test_size = 0.3)\n",
    "# The 'cross_validation_parameter' function is then used to find the best 'C' and 'gamma' values for a model, likely through a grid search approach.\n",
    "best_C, best_gamma = cross_validation_parameter(param_grid, price_train, target_train)"
   ]
  },
  {
   "cell_type": "code",
   "execution_count": null,
   "metadata": {},
   "outputs": [],
   "source": [
    "print(f'The best values are {best_C} for C and {best_gamma} for Gamma')"
   ]
  },
  {
   "cell_type": "code",
   "execution_count": null,
   "metadata": {},
   "outputs": [],
   "source": [
    "# Applying a Support Vector Regression (SVR) model with the best 'C' and 'gamma' values found. \n",
    "svr_matrix, future_price, accuracy_score = apply_svr(scaled_data, prediction_time, price, target, regressor, best_C, best_gamma)"
   ]
  },
  {
   "cell_type": "code",
   "execution_count": null,
   "metadata": {},
   "outputs": [],
   "source": [
    "# Visualizing the SVR model's performance.\n",
    "visualize_model(svr_matrix, scaled_data, zoom = [600, 700])"
   ]
  },
  {
   "cell_type": "code",
   "execution_count": null,
   "metadata": {},
   "outputs": [],
   "source": [
    "# Displaying the accuracy score of the SVR model.\n",
    "accuracy_score"
   ]
  },
  {
   "cell_type": "code",
   "execution_count": null,
   "metadata": {},
   "outputs": [],
   "source": [
    "visualize_future(scaled_data, future_price)"
   ]
  },
  {
   "cell_type": "code",
   "execution_count": null,
   "metadata": {},
   "outputs": [],
   "source": [
    "# Setting the sequence length for time series prediction.\n",
    "sequence_length = 20 "
   ]
  },
  {
   "cell_type": "code",
   "execution_count": null,
   "metadata": {},
   "outputs": [],
   "source": [
    "# Creating sequences from the scaled data using the specified sequence length.\n",
    "X, y = create_sequences(scaled_data, sequence_length) # Prediction based on 20 periods (20 days or 20 hours) \n",
    "# The 'lstm_model' function trains the LSTM on these sequences and makes predictions.\n",
    "y_train, y_test, predicted_values = lstm_model(X, y)"
   ]
  },
  {
   "cell_type": "code",
   "execution_count": null,
   "metadata": {},
   "outputs": [],
   "source": [
    "visualize_RNN_prediction(y_train, y_test, predicted_values)"
   ]
  },
  {
   "cell_type": "code",
   "execution_count": null,
   "metadata": {},
   "outputs": [],
   "source": [
    "data_file = \"BTCUSDT_hourly_2023.csv\"\n",
    "hour_data = pd.read_csv(data_file)\n",
    "\n",
    "# Convertir la colonne 'timestamp' en format datetime\n",
    "hour_data['timestamp'] = pd.to_datetime(hour_data['timestamp']) \n",
    "hour_btc = scaling_data(hour_data)"
   ]
  },
  {
   "cell_type": "code",
   "execution_count": null,
   "metadata": {},
   "outputs": [],
   "source": [
    "# Setting the sequence length for LSTM model, creating sequences from the hourly data, and applying the LSTM model to this data.\n",
    "sequence_length = 20\n",
    "X, y = create_sequences(hour_btc, sequence_length) # Prediction based on 20 hours \n",
    "y_train, y_test, predicted_values = lstm_model(X, y)\n",
    "visualize_RNN_prediction(y_train, y_test, predicted_values)"
   ]
  },
  {
   "cell_type": "code",
   "execution_count": null,
   "metadata": {},
   "outputs": [],
   "source": [
    "# Implementing a recursive prediction method.\n",
    "t = 5\n",
    "prediction = recursive_prediction(X, y, t)"
   ]
  },
  {
   "cell_type": "code",
   "execution_count": null,
   "metadata": {},
   "outputs": [],
   "source": [
    "prediction = inverse_scalling(prediction, hour_data)"
   ]
  },
  {
   "cell_type": "code",
   "execution_count": null,
   "metadata": {},
   "outputs": [],
   "source": [
    "# Plotting the results of the recursive prediction.\n",
    "# The red dashed line at 'sequence_length' indicates the point in the time series where the recursive prediction begins.\n",
    "plt.plot(prediction)\n",
    "plt.title('Recursive prediction of the close price of BTC ')\n",
    "plt.axvline(x = sequence_length, color = 'r', linestyle = '--')\n",
    "plt.xlabel('time')\n",
    "plt.ylabel('Price')\n",
    "plt.legend('')\n",
    "plt.show()"
   ]
  }
 ],
 "metadata": {
  "kernelspec": {
   "display_name": "base",
   "language": "python",
   "name": "python3"
  },
  "language_info": {
   "name": "python",
   "version": "3.12.7"
  }
 },
 "nbformat": 4,
 "nbformat_minor": 2
}
